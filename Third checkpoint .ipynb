{
 "cells": [
  {
   "cell_type": "code",
   "execution_count": 43,
   "metadata": {},
   "outputs": [
    {
     "name": "stdout",
     "output_type": "stream",
     "text": [
      "the max number between those is:  35\n"
     ]
    }
   ],
   "source": [
    "#Question 1:\n",
    "def maxy(a,b,c):\n",
    "    if a>b and a>c:\n",
    "        print(\"the max number between those is: \" , a)\n",
    "    elif b>a and b>c:\n",
    "        print(\"the max number between those is: \" , b)\n",
    "    else:\n",
    "        print(\"the max number between those is: \" , c)\n",
    "\n",
    "\n",
    "maxy(20,35,19)"
   ]
  },
  {
   "cell_type": "code",
   "execution_count": 13,
   "metadata": {},
   "outputs": [
    {
     "data": {
      "text/plain": [
       "(50, 30)"
      ]
     },
     "execution_count": 13,
     "metadata": {},
     "output_type": "execute_result"
    }
   ],
   "source": [
    "#Question 2:\n",
    "def calculation(a,b):\n",
    "    return a+b , a-b \n",
    "\n",
    "\n",
    "calculation(40,10)"
   ]
  },
  {
   "cell_type": "code",
   "execution_count": 13,
   "metadata": {},
   "outputs": [],
   "source": [
    "#Question 3:\n",
    "my_list=[1,2,3,4,5]"
   ]
  },
  {
   "cell_type": "code",
   "execution_count": 22,
   "metadata": {},
   "outputs": [],
   "source": [
    "def sumslist(my_list):\n",
    "    s=0\n",
    "    for i in my_list:\n",
    "        s=s+i\n",
    "    return s"
   ]
  },
  {
   "cell_type": "code",
   "execution_count": 23,
   "metadata": {},
   "outputs": [],
   "source": [
    "def multi_list(my_list):\n",
    "    s=1\n",
    "    for i in my_list:\n",
    "        s=s*i\n",
    "    return s "
   ]
  },
  {
   "cell_type": "code",
   "execution_count": 24,
   "metadata": {},
   "outputs": [],
   "source": [
    "def fun_list(my_list):\n",
    "    odd_list=[]\n",
    "    even_list=[]\n",
    "    for s in my_list:\n",
    "        if s % 2==0:\n",
    "            even_list.append(s)\n",
    "        else:\n",
    "            odd_list.append(s)\n",
    "    return even_list,odd_list,sumslist(even_list),multi_list(odd_list)\n",
    "            "
   ]
  },
  {
   "cell_type": "code",
   "execution_count": 25,
   "metadata": {},
   "outputs": [
    {
     "data": {
      "text/plain": [
       "([2, 4], [1, 3, 5], 6, 15)"
      ]
     },
     "execution_count": 25,
     "metadata": {},
     "output_type": "execute_result"
    }
   ],
   "source": [
    "fun_list(my_list)\n"
   ]
  },
  {
   "cell_type": "code",
   "execution_count": 27,
   "metadata": {},
   "outputs": [
    {
     "name": "stdout",
     "output_type": "stream",
     "text": [
      "green-red-yellow-black-white\n",
      "black-green-red-white-yellow\n"
     ]
    }
   ],
   "source": [
    "#Question 4:\n",
    "items=input().split('-')\n",
    "items.sort()\n",
    "print('-'.join(items))"
   ]
  },
  {
   "cell_type": "code",
   "execution_count": 42,
   "metadata": {},
   "outputs": [
    {
     "name": "stdout",
     "output_type": "stream",
     "text": [
      "give a numbers: 100,150,180\n",
      "18\n",
      "22\n",
      "24\n"
     ]
    }
   ],
   "source": [
    "#Questin 5:\n",
    "from math import sqrt\n",
    "d=(input(\"give a numbers: \").split(','))\n",
    "c=50\n",
    "h=30\n",
    "for i in d:\n",
    "    print(round(sqrt((c*int(i)*2)//h),))\n",
    "    "
   ]
  },
  {
   "cell_type": "code",
   "execution_count": null,
   "metadata": {},
   "outputs": [],
   "source": []
  }
 ],
 "metadata": {
  "kernelspec": {
   "display_name": "Python 3",
   "language": "python",
   "name": "python3"
  },
  "language_info": {
   "codemirror_mode": {
    "name": "ipython",
    "version": 3
   },
   "file_extension": ".py",
   "mimetype": "text/x-python",
   "name": "python",
   "nbconvert_exporter": "python",
   "pygments_lexer": "ipython3",
   "version": "3.7.0"
  }
 },
 "nbformat": 4,
 "nbformat_minor": 2
}
